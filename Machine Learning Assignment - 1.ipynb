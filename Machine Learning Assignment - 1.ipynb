{
 "cells": [
  {
   "cell_type": "markdown",
   "id": "69612491-9f7d-41dd-b8bc-27412929ae07",
   "metadata": {},
   "source": [
    "## Machine Learning Assignment - 1"
   ]
  },
  {
   "cell_type": "code",
   "execution_count": 1,
   "id": "871b81de-9a3d-4bff-aca1-bdeebc5ea097",
   "metadata": {},
   "outputs": [],
   "source": [
    "# Q1\n",
    "\n",
    "# 1: AI is the superset of ML, DL, DS and it is a way when the machine can think and solve a complex problem by its own.\n",
    "# eg: Robots\n",
    "\n",
    "# 2: ML is a subset of AI and it is used for analyzing, visualising, predicting and forcasting based on a dataset.\n",
    "# eg: Weather forcasting\n",
    "\n",
    "# 3: DL is a subset of AI and it is based on highly complex neural networks that mimic the way a human brain works to detect \n",
    "# patterns in large unstructured data sets. eg: Image detection"
   ]
  },
  {
   "cell_type": "code",
   "execution_count": 2,
   "id": "463e9138-0b17-41dc-9c28-84e924d3b8b2",
   "metadata": {},
   "outputs": [],
   "source": [
    "# Q2\n",
    "\n",
    "# Supervised learning is a kind of model of ML where we have to give the input and predict a specific kind of outcome and \n",
    "# the outcomes are depends on the input. Supervised learning is kind of two types (i) Classification and (ii) Regression\n",
    "# eg: Spam detection, Optical character recognition"
   ]
  },
  {
   "cell_type": "code",
   "execution_count": 3,
   "id": "811d4406-a855-4abe-8650-8b0e95f4ce29",
   "metadata": {},
   "outputs": [],
   "source": [
    "# Q3\n",
    "\n",
    "# Supervised learning is a kind of model of ML where input and output is not specific it gives a cluster result to a given\n",
    "# input. eg: Market segmentation, Social network analysis"
   ]
  },
  {
   "cell_type": "code",
   "execution_count": 4,
   "id": "367e5ad0-ce50-45c4-bf79-df8849557b01",
   "metadata": {},
   "outputs": [],
   "source": [
    "# Q4\n",
    "\n",
    "# The basic difference between AI, ML, DL and DS is AI is the superset of all of these three. DL is the subset of AI and ML.\n",
    "# DS is subset of AI and also it has part of mix DL and ML. That means a Data Scientist can perform in all of these 3 things."
   ]
  },
  {
   "cell_type": "code",
   "execution_count": 5,
   "id": "c1ff56b1-93f8-4225-81ac-b316bd16a463",
   "metadata": {},
   "outputs": [],
   "source": [
    "# Q5\n",
    "\n",
    "# The main difference between supervised, unsupervised and semi-supervised is in supervise models we have a specific input and\n",
    "# output but in unsupervise model there is no specific input and output and outputs are generally in groups and semi-supervise\n",
    "#  is the combination of supervise and unsupervise models."
   ]
  },
  {
   "cell_type": "code",
   "execution_count": 6,
   "id": "ba553d6c-8cac-4e15-9eee-f3efe8cef6d4",
   "metadata": {},
   "outputs": [],
   "source": [
    "# Q6\n",
    "\n",
    "# Dataset is divided into 3 parts named as Train, Validation and Test dataset\n",
    "\n",
    "# Train Dataset: The dataset given to a model at the begining phase to teach the model is known as Train dataset.\n",
    "# Validation Dataset: The dataset given to a model to train for a hypothetic situation is known as Validation dataset.\n",
    "# Test Dataset: In this phase the model will be test for a best outcome."
   ]
  },
  {
   "cell_type": "code",
   "execution_count": 7,
   "id": "4c20010a-e0a2-49f0-8344-6d16d590aa52",
   "metadata": {},
   "outputs": [],
   "source": [
    "# Q7\n",
    "\n",
    "# Identifying normal patterns within a data sample and then detecting outliers based on the natural characteristics of the \n",
    "# data set itself. In this way unsupervised models used in anomaly detection."
   ]
  },
  {
   "cell_type": "code",
   "execution_count": 8,
   "id": "9bb67189-ac23-4df5-a2d6-bb267a8802ff",
   "metadata": {},
   "outputs": [],
   "source": [
    "# Q8\n",
    "\n",
    "# Supervised Algorithm: Regression, Decision tree, Classification, Random forest, Nearest neighbor algorithm\n",
    "# Unsupervised Algorithm: Anomaly detection, Clustering, Autoencoders, Customer segmentation, Dimensionality reduction"
   ]
  },
  {
   "cell_type": "code",
   "execution_count": null,
   "id": "245b500a-410c-4bba-80d7-c6212d574559",
   "metadata": {},
   "outputs": [],
   "source": []
  }
 ],
 "metadata": {
  "kernelspec": {
   "display_name": "Python 3 (ipykernel)",
   "language": "python",
   "name": "python3"
  },
  "language_info": {
   "codemirror_mode": {
    "name": "ipython",
    "version": 3
   },
   "file_extension": ".py",
   "mimetype": "text/x-python",
   "name": "python",
   "nbconvert_exporter": "python",
   "pygments_lexer": "ipython3",
   "version": "3.10.8"
  }
 },
 "nbformat": 4,
 "nbformat_minor": 5
}
